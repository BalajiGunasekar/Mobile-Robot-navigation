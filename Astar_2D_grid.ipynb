{
  "nbformat": 4,
  "nbformat_minor": 0,
  "metadata": {
    "colab": {
      "name": "Astar_2D_grid.ipynb",
      "provenance": [],
      "collapsed_sections": []
    },
    "kernelspec": {
      "name": "python3",
      "display_name": "Python 3"
    }
  },
  "cells": [
    {
      "cell_type": "code",
      "metadata": {
        "id": "S8ux4mHMYA7n"
      },
      "source": [
        "import heapq"
      ],
      "execution_count": 11,
      "outputs": []
    },
    {
      "cell_type": "code",
      "metadata": {
        "id": "--FJMKZHYHSv"
      },
      "source": [
        "\n",
        "class Cell(object):\n",
        "    def __init__(self, x, y, reachable):\n",
        "        # Initialize new cell and their x and y coordinates \n",
        "        self.reachable = reachable\n",
        "        self.x = x\n",
        "        self.y = y\n",
        "        self.parent = None\n",
        "        self.g = 0\n",
        "        self.h = 0\n",
        "        self.f = 0\n",
        "\n",
        "    def __lt__(self, other):\n",
        "        return self.f < other.f\n"
      ],
      "execution_count": 12,
      "outputs": []
    },
    {
      "cell_type": "code",
      "metadata": {
        "id": "vTURtc9UYO6F"
      },
      "source": [
        "class AStar(object):\n",
        "    def __init__(self):\n",
        "        self.opened = []\n",
        "        heapq.heapify(self.opened)\n",
        "        self.closed = set()\n",
        "        self.cells = []\n",
        "        self.grid_height = None #5\n",
        "        self.grid_width = None #5\n",
        "\n",
        "    def init_grid(self, width, height, obst, start, end):\n",
        "        # Creating grid cells and Ostacle.\n",
        "        self.grid_height = height\n",
        "        self.grid_width = width\n",
        "        for x in range(self.grid_width):\n",
        "            for y in range(self.grid_height):\n",
        "                if (x, y) in obst:\n",
        "                    reachable = False\n",
        "                else:\n",
        "                    reachable = True\n",
        "                self.cells.append(Cell(x, y, reachable))\n",
        "        self.start = self.get_cell(*start)\n",
        "        self.end = self.get_cell(*end)\n",
        "\n",
        "    def get_heuristic(self, cell):\n",
        "        # The heuristic value H for a cell.\n",
        "        return 10 * (abs(cell.x - self.end.x) + abs(cell.y - self.end.y))\n",
        "\n",
        "    def get_cell(self, x, y):\n",
        "        return self.cells[x * self.grid_height + y]\n",
        "\n",
        "    def get_adjacent_cells(self, cell):\n",
        "        # Returns adjacent cells to a cell in Clockwise from the one on right.\n",
        "        cells = []\n",
        "        if cell.x < self.grid_width - 1:\n",
        "            cells.append(self.get_cell(cell.x + 1, cell.y))\n",
        "        if cell.y > 0:\n",
        "            cells.append(self.get_cell(cell.x, cell.y - 1))\n",
        "        if cell.x > 0:\n",
        "            cells.append(self.get_cell(cell.x - 1, cell.y))\n",
        "        if cell.y < self.grid_height - 1:\n",
        "            cells.append(self.get_cell(cell.x, cell.y + 1))\n",
        "        return cells\n",
        "\n",
        "    def get_path(self):\n",
        "        cell = self.end\n",
        "        path = [(cell.x, cell.y)]\n",
        "        while cell.parent is not self.start:\n",
        "            cell = cell.parent\n",
        "            path.append((cell.x, cell.y))\n",
        "        path.append((self.start.x, self.start.y))\n",
        "        path.reverse()\n",
        "        print('Estimated path of Robot : ', path)\n",
        "        return path\n",
        "\n",
        "    def update_cell(self, adj, cell):\n",
        "        # Updating adjacent cell to the current cell with cost of 10\n",
        "        adj.g = cell.g + 10\n",
        "        adj.h = self.get_heuristic(adj)\n",
        "        adj.parent = cell\n",
        "        adj.f = adj.h + adj.g\n",
        "\n",
        "    def solve(self):\n",
        "        # Find path to Ending/Goal cell\n",
        "        # adding start cell to open heap queue\n",
        "        heapq.heappush(self.opened, (self.start.f, self.start))\n",
        "        while len(self.opened):\n",
        "          # EXploring cells from the open list\n",
        "            f, cell = heapq.heappop(self.opened)\n",
        "            # Adding visited cell to closed Tuple set\n",
        "            self.closed.add(cell)\n",
        "            if cell is self.end:\n",
        "                return self.get_path()\n",
        "            # Getting adjacent cells for the current cell\n",
        "            adj_cells = self.get_adjacent_cells(cell)\n",
        "            for adj_cell in adj_cells:\n",
        "              # Exploring the new adj cell \n",
        "                if adj_cell.reachable and adj_cell not in self.closed:\n",
        "                    if (adj_cell.f, adj_cell) in self.opened:\n",
        "                        # checking if current path is better than the one previously found\n",
        "                        if adj_cell.g > cell.g + 10:\n",
        "                            self.update_cell(adj_cell, cell)\n",
        "                    else:\n",
        "                        self.update_cell(adj_cell, cell)\n",
        "                        heapq.heappush(self.opened, (adj_cell.f, adj_cell))"
      ],
      "execution_count": 13,
      "outputs": []
    },
    {
      "cell_type": "code",
      "metadata": {
        "id": "c2KxGbUqYYN0",
        "colab": {
          "base_uri": "https://localhost:8080/"
        },
        "outputId": "87f575b0-d424-4fb9-9f71-4ce6c130e2f0"
      },
      "source": [
        "if __name__ == \"__main__\":\n",
        "  a = AStar()\n",
        "    # Locating the Black Obstacles in the Grid Environment\n",
        "  obst = ((1, 0), (0, 2), (0, 4), (2, 2), (2, 4), (3, 0), (3, 2), (4, 3))\n",
        "  a.init_grid(5, 5, obst, (0, 0), (4, 4))\n",
        "  path = a.solve()\n",
        "  print(\"Path of the Robot : \", path)"
      ],
      "execution_count": 14,
      "outputs": [
        {
          "output_type": "stream",
          "text": [
            "Estimated path of Robot :  [(0, 0), (0, 1), (1, 1), (1, 2), (1, 3), (2, 3), (3, 3), (3, 4), (4, 4)]\n",
            "Path of the Robot :  [(0, 0), (0, 1), (1, 1), (1, 2), (1, 3), (2, 3), (3, 3), (3, 4), (4, 4)]\n"
          ],
          "name": "stdout"
        }
      ]
    },
    {
      "cell_type": "code",
      "metadata": {
        "id": "3FcpdjsvYzuy"
      },
      "source": [
        ""
      ],
      "execution_count": 14,
      "outputs": []
    },
    {
      "cell_type": "code",
      "metadata": {
        "id": "2k6hUYdNt5jB"
      },
      "source": [
        ""
      ],
      "execution_count": 14,
      "outputs": []
    }
  ]
}